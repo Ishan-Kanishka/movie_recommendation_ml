{
 "cells": [
  {
   "cell_type": "code",
   "execution_count": 62,
   "id": "221951b5-35b6-4d8f-9c4c-3857b4433f0c",
   "metadata": {},
   "outputs": [],
   "source": [
    "import pandas as pd\n",
    "import numpy as np\n",
    "from sklearn.preprocessing import StandardScaler      \n",
    "from sklearn.decomposition import PCA\n",
    "from sklearn.cluster import AgglomerativeClustering\n",
    "from sklearn.metrics import silhouette_score, davies_bouldin_score\n",
    "import matplotlib.pyplot as plt\n",
    "import scipy.cluster.hierarchy as sch\n"
   ]
  },
  {
   "cell_type": "code",
   "execution_count": 63,
   "id": "42dabcbb-f814-4de5-8c57-056d21c89325",
   "metadata": {},
   "outputs": [
    {
     "name": "stdout",
     "output_type": "stream",
     "text": [
      " Original dataset shape: (93206, 25)\n"
     ]
    }
   ],
   "source": [
    "data = pd.read_csv(\"data/processed/dataset.csv\")\n",
    "print(\" Original dataset shape:\", data.shape)\n"
   ]
  },
  {
   "cell_type": "code",
   "execution_count": 64,
   "id": "a4f5b0e7-0502-44a4-bb2f-89c6a2867a46",
   "metadata": {},
   "outputs": [
    {
     "name": "stdout",
     "output_type": "stream",
     "text": [
      "Number of duplicate rows: 47422\n",
      "Dataset shape after removing duplicates: (45784, 25)\n"
     ]
    }
   ],
   "source": [
    "num_duplicates = data.duplicated().sum()\n",
    "print(f\"Number of duplicate rows: {num_duplicates}\")\n",
    "data = data.drop_duplicates()\n",
    "print(\"Dataset shape after removing duplicates:\", data.shape)"
   ]
  },
  {
   "cell_type": "code",
   "execution_count": 65,
   "id": "c7eeec45-231f-4e0b-8d94-bba322288944",
   "metadata": {},
   "outputs": [
    {
     "name": "stdout",
     "output_type": "stream",
     "text": [
      " Sampled dataset shape: (10000, 25)\n"
     ]
    }
   ],
   "source": [
    "data_sample = data.sample(n=10000, random_state=42)\n",
    "print(\" Sampled dataset shape:\", data_sample.shape)"
   ]
  },
  {
   "cell_type": "code",
   "execution_count": 66,
   "id": "5e37bd8a-f95e-49c2-9779-14b3d0f9dc08",
   "metadata": {},
   "outputs": [
    {
     "name": "stdout",
     "output_type": "stream",
     "text": [
      " Data ready for clustering: (10000, 25)\n"
     ]
    }
   ],
   "source": [
    "X = data_sample.select_dtypes(include=[np.number])\n",
    "print(\" Data ready for clustering:\", X.shape)"
   ]
  },
  {
   "cell_type": "code",
   "execution_count": 67,
   "id": "9224f678-b6df-4aab-8367-405985c90270",
   "metadata": {},
   "outputs": [
    {
     "name": "stdout",
     "output_type": "stream",
     "text": [
      "Missing values per column:\n",
      " movie id        0\n",
      "rate            0\n",
      "age             0\n",
      "gender          0\n",
      "occupation      0\n",
      "Other           0\n",
      "Action          0\n",
      "Adventure       0\n",
      "Animation       0\n",
      "Children's      0\n",
      "Comedy          0\n",
      "Crime           0\n",
      "Documentary     0\n",
      "Drama           0\n",
      "Fantasy         0\n",
      "Film-Noir       0\n",
      "Horror          0\n",
      "Musical         0\n",
      "Mystery         0\n",
      "Romance         0\n",
      "Sci-Fi          0\n",
      "Thriller        0\n",
      "War             0\n",
      "Western         0\n",
      "release_year    0\n",
      "dtype: int64\n"
     ]
    }
   ],
   "source": [
    "print(\"Missing values per column:\\n\", X.isnull().sum())"
   ]
  },
  {
   "cell_type": "code",
   "execution_count": 68,
   "id": "c14e0355-7df8-4173-a855-2f5f9cf1831d",
   "metadata": {},
   "outputs": [
    {
     "name": "stdout",
     "output_type": "stream",
     "text": [
      " Missing values handled\n"
     ]
    }
   ],
   "source": [
    "X.fillna(X.mean(), inplace=True)\n",
    "print(\" Missing values handled\")\n"
   ]
  },
  {
   "cell_type": "code",
   "execution_count": 69,
   "id": "54083817-9fba-4c49-8f76-a3b306ddf44f",
   "metadata": {},
   "outputs": [
    {
     "name": "stdout",
     "output_type": "stream",
     "text": [
      " Data scaled (mean=0, std=1)\n"
     ]
    }
   ],
   "source": [
    "scaler = StandardScaler()\n",
    "X_scaled = scaler.fit_transform(X)\n",
    "print(\" Data scaled (mean=0, std=1)\")"
   ]
  },
  {
   "cell_type": "code",
   "execution_count": 70,
   "id": "788e4b0d-1846-4f49-ae5c-71211ae0dacf",
   "metadata": {},
   "outputs": [
    {
     "name": "stdout",
     "output_type": "stream",
     "text": [
      " Data after PCA: (10000, 10)\n"
     ]
    }
   ],
   "source": [
    "pca = PCA(n_components=10, random_state=42)\n",
    "X_pca = pca.fit_transform(X)\n",
    "print(\" Data after PCA:\", X_pca.shape)\n"
   ]
  },
  {
   "cell_type": "code",
   "execution_count": 71,
   "id": "f0ce249b-00fb-4d0e-8686-f6e0206da130",
   "metadata": {},
   "outputs": [
    {
     "name": "stdout",
     "output_type": "stream",
     "text": [
      " Total variance explained by 10 components: 58.23%\n"
     ]
    }
   ],
   "source": [
    "explained_var = pca.explained_variance_ratio_.sum()\n",
    "print(f\" Total variance explained by 10 components: {explained_var:.2%}\")"
   ]
  },
  {
   "cell_type": "code",
   "execution_count": 72,
   "id": "e8787783-a0e3-4654-a806-372d852f3803",
   "metadata": {},
   "outputs": [
    {
     "name": "stdout",
     "output_type": "stream",
     "text": [
      " Test 1: 3 Clusters\n",
      " Silhouette Score: 0.3143\n",
      " Davies-Bouldin Score: 1.0709\n"
     ]
    }
   ],
   "source": [
    "#test 1\n",
    "print(\" Test 1: 3 Clusters\")\n",
    "hc1 = AgglomerativeClustering(n_clusters=3, linkage='ward')\n",
    "labels1 = hc1.fit_predict(X)\n",
    "\n",
    "silhouette1 = silhouette_score(X, labels1)\n",
    "davies1 = davies_bouldin_score(X, labels1)\n",
    "\n",
    "print(f\" Silhouette Score: {silhouette1:.4f}\")\n",
    "print(f\" Davies-Bouldin Score: {davies1:.4f}\")\n",
    "\n"
   ]
  },
  {
   "cell_type": "code",
   "execution_count": 73,
   "id": "73310ccc-c056-46a0-a93b-ff37fa30de16",
   "metadata": {},
   "outputs": [
    {
     "name": "stdout",
     "output_type": "stream",
     "text": [
      " Test 2: 5 Clusters\n",
      " Silhouette Score: 0.3060\n",
      " Davies-Bouldin Score: 1.3361\n"
     ]
    }
   ],
   "source": [
    "#Test 2\n",
    "print(\" Test 2: 5 Clusters\")\n",
    "hc2 = AgglomerativeClustering(n_clusters=5, linkage='ward')\n",
    "labels2 = hc2.fit_predict(X)\n",
    "\n",
    "silhouette2 = silhouette_score(X, labels2)\n",
    "davies2 = davies_bouldin_score(X, labels2)\n",
    "\n",
    "print(f\" Silhouette Score: {silhouette2:.4f}\")\n",
    "print(f\" Davies-Bouldin Score: {davies2:.4f}\")\n"
   ]
  },
  {
   "cell_type": "code",
   "execution_count": 74,
   "id": "8f652343-733d-4064-afd5-c797a9313434",
   "metadata": {},
   "outputs": [
    {
     "name": "stdout",
     "output_type": "stream",
     "text": [
      " Test 3: 7 Clusters\n",
      " Silhouette Score: 0.1254\n",
      " Davies-Bouldin Score: 1.6803\n"
     ]
    }
   ],
   "source": [
    "#Test 3\n",
    "print(\" Test 3: 7 Clusters\")\n",
    "hc3 = AgglomerativeClustering(n_clusters=7, linkage='ward')\n",
    "labels3 = hc3.fit_predict(X)\n",
    "\n",
    "silhouette3 = silhouette_score(X, labels3)\n",
    "davies3 = davies_bouldin_score(X, labels3)\n",
    "\n",
    "print(f\" Silhouette Score: {silhouette3:.4f}\")\n",
    "print(f\" Davies-Bouldin Score: {davies3:.4f}\")\n"
   ]
  },
  {
   "cell_type": "code",
   "execution_count": 77,
   "id": "aa06e043-164a-4f93-8ef1-29f159359ba9",
   "metadata": {},
   "outputs": [
    {
     "data": {
      "image/png": "[encoded data removed]",
      "text/plain": [
       "<Figure size 1000x600 with 1 Axes>"
      ]
     },
     "metadata": {},
     "output_type": "display_data"
    }
   ],
   "source": [
    "plt.figure(figsize=(10,6))\n",
    "plt.title(\"Hierarchical Clustering Dendrogram (Sample 200)\")\n",
    "dendrogram = sch.dendrogram(sch.linkage(X_pca[:200], method='ward'))  \n",
    "plt.xlabel(\"Samples\")\n",
    "plt.ylabel(\"Distance\")\n",
    "plt.show()\n"
   ]
  },
  {
   "cell_type": "code",
   "execution_count": 78,
   "id": "8eba3512-706f-470f-b70f-37261b9690c8",
   "metadata": {},
   "outputs": [
    {
     "data": {
      "text/plain": [
       "['hierarchical_model_test3.pkl']"
      ]
     },
     "execution_count": 78,
     "metadata": {},
     "output_type": "execute_result"
    }
   ],
   "source": [
    "import joblib\n",
    "\n",
    "# Save trained hierarchical clustering models\n",
    "joblib.dump(hc1, \"hierarchical_model_test1.pkl\")\n",
    "joblib.dump(hc2, \"hierarchical_model_test2.pkl\")\n",
    "joblib.dump(hc3, \"hierarchical_model_test3.pkl\")\n"
   ]
  },
  {
   "cell_type": "code",
   "execution_count": 79,
   "id": "ad875ee9-6322-49c3-9809-6e8b8be2e135",
   "metadata": {},
   "outputs": [
    {
     "name": "stdout",
     "output_type": "stream",
     "text": [
      " Models and cluster labels saved successfully!\n"
     ]
    }
   ],
   "source": [
    "# Save corresponding cluster labels\n",
    "joblib.dump(labels1, \"hierarchical_labels_test1.pkl\")\n",
    "joblib.dump(labels2, \"hierarchical_labels_test2.pkl\")\n",
    "joblib.dump(labels3, \"hierarchical_labels_test3.pkl\")\n",
    "\n",
    "print(\" Models and cluster labels saved successfully!\")"
   ]
  },
  {
   "cell_type": "code",
   "execution_count": 80,
   "id": "1674f31f-f584-46b1-8057-d9a39670150a",
   "metadata": {},
   "outputs": [
    {
     "name": "stdout",
     "output_type": "stream",
     "text": [
      " Model and labels loaded successfully!\n",
      "Sample of loaded cluster labels: [1 1 1 1 1 1 1 1 1 1]\n"
     ]
    }
   ],
   "source": [
    "#  Load one saved model and its labels for test 2\n",
    "hc_loaded = joblib.load(\"hierarchical_model_test2.pkl\")\n",
    "labels_loaded = joblib.load(\"hierarchical_labels_test2.pkl\")\n",
    "\n",
    "print(\" Model and labels loaded successfully!\")\n",
    "print(\"Sample of loaded cluster labels:\", labels_loaded[:10])"
   ]
  },
  {
   "cell_type": "code",
   "execution_count": null,
   "id": "05377648-1ffd-4bbb-a701-3f12e0f963ec",
   "metadata": {},
   "outputs": [],
   "source": []
  }
 ],
 "metadata": {
  "kernelspec": {
   "display_name": "Python 3.13 (Custom)",
   "language": "python",
   "name": "python313"
  },
  "language_info": {
   "codemirror_mode": {
    "name": "ipython",
    "version": 3
   },
   "file_extension": ".py",
   "mimetype": "text/x-python",
   "name": "python",
   "nbconvert_exporter": "python",
   "pygments_lexer": "ipython3",
   "version": "3.13.2"
  }
 },
 "nbformat": 4,
 "nbformat_minor": 5
}
